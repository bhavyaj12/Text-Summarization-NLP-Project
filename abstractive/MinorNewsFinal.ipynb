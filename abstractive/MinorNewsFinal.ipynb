{
 "cells": [
  {
   "cell_type": "code",
   "execution_count": 0,
   "metadata": {
    "colab": {},
    "colab_type": "code",
    "id": "0wUrEpOLDOoQ"
   },
   "outputs": [],
   "source": [
    "from pydrive.auth import GoogleAuth\n",
    "from pydrive.drive import GoogleDrive\n",
    "from google.colab import auth\n",
    "from oauth2client.client import GoogleCredentials"
   ]
  },
  {
   "cell_type": "code",
   "execution_count": 0,
   "metadata": {
    "colab": {},
    "colab_type": "code",
    "id": "3BcyeRvjDTy8"
   },
   "outputs": [],
   "source": [
    "auth.authenticate_user()\n",
    "gauth = GoogleAuth()\n",
    "gauth.credentials = GoogleCredentials.get_application_default()\n",
    "drive = GoogleDrive(gauth)"
   ]
  },
  {
   "cell_type": "code",
   "execution_count": 0,
   "metadata": {
    "colab": {},
    "colab_type": "code",
    "id": "wqHd6U4cDcTj"
   },
   "outputs": [],
   "source": [
    "downloaded = drive.CreateFile({'id':\"1m4kXsnHUKwyMYk1HQckaT2h57_geHkyq\"})  \n",
    "downloaded.GetContentFile('attention.py')"
   ]
  },
  {
   "cell_type": "code",
   "execution_count": 0,
   "metadata": {
    "colab": {},
    "colab_type": "code",
    "id": "qAHx_CVeDmHM"
   },
   "outputs": [],
   "source": [
    "import attention\n",
    "from attention import AttentionLayer"
   ]
  },
  {
   "cell_type": "code",
   "execution_count": 6,
   "metadata": {
    "colab": {
     "base_uri": "https://localhost:8080/",
     "height": 34
    },
    "colab_type": "code",
    "id": "z1NM5nLrDn8W",
    "outputId": "909e3e03-9f14-4a5d-a19a-cd86c80f6b0b"
   },
   "outputs": [
    {
     "name": "stderr",
     "output_type": "stream",
     "text": [
      "Using TensorFlow backend.\n"
     ]
    }
   ],
   "source": [
    "import numpy as np  \n",
    "import pandas as pd \n",
    "import re           \n",
    "from bs4 import BeautifulSoup \n",
    "from keras.preprocessing.text import Tokenizer \n",
    "from keras.preprocessing.sequence import pad_sequences\n",
    "from nltk.corpus import stopwords   \n",
    "from tensorflow.keras.layers import Input, LSTM, Embedding, Dense, Concatenate, TimeDistributed, Bidirectional\n",
    "from tensorflow.keras.models import Model\n",
    "from tensorflow.keras.callbacks import EarlyStopping"
   ]
  },
  {
   "cell_type": "code",
   "execution_count": 0,
   "metadata": {
    "colab": {},
    "colab_type": "code",
    "id": "5fQ3c4soDr4a"
   },
   "outputs": [],
   "source": [
    "downloaded = drive.CreateFile({'id':\"1RjhYzn_FyZyUbTn-17qWo3i4eG04CbVG\"})  \n",
    "downloaded.GetContentFile('news_summary_more.csv')"
   ]
  },
  {
   "cell_type": "code",
   "execution_count": 0,
   "metadata": {
    "colab": {},
    "colab_type": "code",
    "id": "MIJMkAHVDubk"
   },
   "outputs": [],
   "source": [
    "import pandas as pd\n",
    "data=pd.read_csv(\"news_summary_more.csv\")\n"
   ]
  },
  {
   "cell_type": "code",
   "execution_count": 0,
   "metadata": {
    "colab": {},
    "colab_type": "code",
    "id": "mIuczM3ID4lv"
   },
   "outputs": [],
   "source": [
    "data.drop_duplicates(subset=['text'],inplace=True)\n",
    "data.dropna(axis=0,inplace=True)"
   ]
  },
  {
   "cell_type": "code",
   "execution_count": 0,
   "metadata": {
    "colab": {},
    "colab_type": "code",
    "id": "xPJrx7W7EAW8"
   },
   "outputs": [],
   "source": [
    "contraction_mapping = {\"ain't\": \"is not\", \"aren't\": \"are not\",\"can't\": \"cannot\", \"'cause\": \"because\", \"could've\": \"could have\", \"couldn't\": \"could not\",\n",
    "                           \"didn't\": \"did not\",  \"doesn't\": \"does not\", \"don't\": \"do not\", \"hadn't\": \"had not\", \"hasn't\": \"has not\", \"haven't\": \"have not\",\n",
    "                           \"he'd\": \"he would\",\"he'll\": \"he will\", \"he's\": \"he is\", \"how'd\": \"how did\", \"how'd'y\": \"how do you\", \"how'll\": \"how will\", \"how's\": \"how is\",\n",
    "                           \"I'd\": \"I would\", \"I'd've\": \"I would have\", \"I'll\": \"I will\", \"I'll've\": \"I will have\",\"I'm\": \"I am\", \"I've\": \"I have\", \"i'd\": \"i would\",\n",
    "                           \"i'd've\": \"i would have\", \"i'll\": \"i will\",  \"i'll've\": \"i will have\",\"i'm\": \"i am\", \"i've\": \"i have\", \"isn't\": \"is not\", \"it'd\": \"it would\",\n",
    "                           \"it'd've\": \"it would have\", \"it'll\": \"it will\", \"it'll've\": \"it will have\",\"it's\": \"it is\", \"let's\": \"let us\", \"ma'am\": \"madam\",\n",
    "                           \"mayn't\": \"may not\", \"might've\": \"might have\",\"mightn't\": \"might not\",\"mightn't've\": \"might not have\", \"must've\": \"must have\",\n",
    "                           \"mustn't\": \"must not\", \"mustn't've\": \"must not have\", \"needn't\": \"need not\", \"needn't've\": \"need not have\",\"o'clock\": \"of the clock\",\n",
    "                           \"oughtn't\": \"ought not\", \"oughtn't've\": \"ought not have\", \"shan't\": \"shall not\", \"sha'n't\": \"shall not\", \"shan't've\": \"shall not have\",\n",
    "                           \"she'd\": \"she would\", \"she'd've\": \"she would have\", \"she'll\": \"she will\", \"she'll've\": \"she will have\", \"she's\": \"she is\",\n",
    "                           \"should've\": \"should have\", \"shouldn't\": \"should not\", \"shouldn't've\": \"should not have\", \"so've\": \"so have\",\"so's\": \"so as\",\n",
    "                           \"this's\": \"this is\",\"that'd\": \"that would\", \"that'd've\": \"that would have\", \"that's\": \"that is\", \"there'd\": \"there would\",\n",
    "                           \"there'd've\": \"there would have\", \"there's\": \"there is\", \"here's\": \"here is\",\"they'd\": \"they would\", \"they'd've\": \"they would have\",\n",
    "                           \"they'll\": \"they will\", \"they'll've\": \"they will have\", \"they're\": \"they are\", \"they've\": \"they have\", \"to've\": \"to have\",\n",
    "                           \"wasn't\": \"was not\", \"we'd\": \"we would\", \"we'd've\": \"we would have\", \"we'll\": \"we will\", \"we'll've\": \"we will have\", \"we're\": \"we are\",\n",
    "                           \"we've\": \"we have\", \"weren't\": \"were not\", \"what'll\": \"what will\", \"what'll've\": \"what will have\", \"what're\": \"what are\",\n",
    "                           \"what's\": \"what is\", \"what've\": \"what have\", \"when's\": \"when is\", \"when've\": \"when have\", \"where'd\": \"where did\", \"where's\": \"where is\",\n",
    "                           \"where've\": \"where have\", \"who'll\": \"who will\", \"who'll've\": \"who will have\", \"who's\": \"who is\", \"who've\": \"who have\",\n",
    "                           \"why's\": \"why is\", \"why've\": \"why have\", \"will've\": \"will have\", \"won't\": \"will not\", \"won't've\": \"will not have\",\n",
    "                           \"would've\": \"would have\", \"wouldn't\": \"would not\", \"wouldn't've\": \"would not have\", \"y'all\": \"you all\",\n",
    "                           \"y'all'd\": \"you all would\",\"y'all'd've\": \"you all would have\",\"y'all're\": \"you all are\",\"y'all've\": \"you all have\",\n",
    "                           \"you'd\": \"you would\", \"you'd've\": \"you would have\", \"you'll\": \"you will\", \"you'll've\": \"you will have\",\n",
    "                           \"you're\": \"you are\", \"you've\": \"you have\"}"
   ]
  },
  {
   "cell_type": "code",
   "execution_count": 14,
   "metadata": {
    "colab": {
     "base_uri": "https://localhost:8080/",
     "height": 50
    },
    "colab_type": "code",
    "id": "XjlxFzvHEIt-",
    "outputId": "3a0a22c5-642c-481e-c640-ef5c014154f9"
   },
   "outputs": [
    {
     "name": "stdout",
     "output_type": "stream",
     "text": [
      "[nltk_data] Downloading package stopwords to /root/nltk_data...\n",
      "[nltk_data]   Unzipping corpora/stopwords.zip.\n"
     ]
    }
   ],
   "source": [
    "import nltk\n",
    "nltk.download('stopwords')\n",
    "stop_words = set(stopwords.words('english')) \n"
   ]
  },
  {
   "cell_type": "code",
   "execution_count": 0,
   "metadata": {
    "colab": {},
    "colab_type": "code",
    "id": "lrd-RcG1ELnZ"
   },
   "outputs": [],
   "source": [
    "def clean_text(text,num):\n",
    "    ns = text.lower()\n",
    "    ns = BeautifulSoup(ns, \"lxml\").text\n",
    "    ns = re.sub(r'\\([^)]*\\)', '', ns)\n",
    "    ns = re.sub('\"','', ns)\n",
    "    ns = ' '.join([contraction_mapping[t] if t in contraction_mapping else t for t in ns.split(\" \")])    \n",
    "    ns = re.sub(r\"'s\\b\",\"\",ns)\n",
    "    ns = re.sub(\"[^a-zA-Z]\", \" \", ns) \n",
    "    ns = re.sub('[m]{2,}', 'mm', ns)\n",
    "    if(num==0):\n",
    "        tokens = [w for w in ns.split() if not w in stop_words]\n",
    "    else:\n",
    "        tokens=ns.split()\n",
    "    long_words=[]\n",
    "    for i in tokens:\n",
    "        if len(i)>1:                                                 \n",
    "            long_words.append(i)   \n",
    "    return (\" \".join(long_words)).strip()"
   ]
  },
  {
   "cell_type": "code",
   "execution_count": 0,
   "metadata": {
    "colab": {},
    "colab_type": "code",
    "id": "-lAo8U7jEVxK"
   },
   "outputs": [],
   "source": [
    "clean_txt = []\n",
    "for t in data['text']:\n",
    "    clean_txt.append(clean_text(t,0))\n",
    "\n",
    "clean_summary = []\n",
    "for t in data['headlines']:\n",
    "    clean_summary.append(clean_text(t,1))"
   ]
  },
  {
   "cell_type": "code",
   "execution_count": 17,
   "metadata": {
    "colab": {
     "base_uri": "https://localhost:8080/",
     "height": 121
    },
    "colab_type": "code",
    "id": "j-xA1cEbEn26",
    "outputId": "7cae7537-93ce-42af-beee-fb80e6da34e9"
   },
   "outputs": [
    {
     "data": {
      "text/plain": [
       "['saurav kant alumnus upgrad iiit pg program machine learning artificial intelligence sr systems engineer infosys almost years work experience program upgrad degree career support helped transition data scientist tech mahindra salary hike upgrad online power learning powered lakh careers',\n",
       " 'kunal shah credit card bill payment platform cred gave users chance win free food swiggy one year pranav kaushik delhi techie bagged reward spending cred coins users get one cred coin per rupee bill paid used avail rewards brands like ixigo bookmyshow ubereats cult fit',\n",
       " 'new zealand defeated india wickets fourth odi hamilton thursday win first match five match odi series india lost international match rohit sharma captaincy consecutive victories dating back march match witnessed india getting seventh lowest total odi cricket history',\n",
       " 'aegon life iterm insurance plan customers enjoy tax benefits premiums paid save taxes plan provides life cover age years also customers options insure critical illnesses disability accidental death benefit rider life cover age years',\n",
       " 'speaking sexual harassment allegations rajkumar hirani sonam kapoor said known hirani many years true metoo movement get derailed metoo movement always believe woman case need reserve judgment added hirani accused assistant worked sanju']"
      ]
     },
     "execution_count": 17,
     "metadata": {
      "tags": []
     },
     "output_type": "execute_result"
    }
   ],
   "source": [
    "clean_txt[:5]"
   ]
  },
  {
   "cell_type": "code",
   "execution_count": 0,
   "metadata": {
    "colab": {},
    "colab_type": "code",
    "id": "MKF2QMMnExJe"
   },
   "outputs": [],
   "source": [
    "clean_summary = []\n",
    "for t in data['headlines']:\n",
    "    clean_summary.append(clean_text(t,1))"
   ]
  },
  {
   "cell_type": "code",
   "execution_count": 20,
   "metadata": {
    "colab": {
     "base_uri": "https://localhost:8080/",
     "height": 185
    },
    "colab_type": "code",
    "id": "6cQhHIc2E7g5",
    "outputId": "5a05f5e3-0d2d-493a-e7fb-0bf3b36a8dbe"
   },
   "outputs": [
    {
     "data": {
      "text/plain": [
       "['upgrad learner switches to career in ml al with salary hike',\n",
       " 'delhi techie wins free food from swiggy for one year on cred',\n",
       " 'new zealand end rohit sharma led india match winning streak',\n",
       " 'aegon life iterm insurance plan helps customers save tax',\n",
       " 'have known hirani for yrs what if metoo claims are not true sonam',\n",
       " 'rahat fateh ali khan denies getting notice for smuggling currency',\n",
       " 'india get all out for their lowest odi total in new zealand',\n",
       " 'govt directs alok verma to join work day before his retirement',\n",
       " 'called pm modi sir times to satisfy his ego andhra cm',\n",
       " 'cong wins ramgarh bypoll in rajasthan takes total to seats']"
      ]
     },
     "execution_count": 20,
     "metadata": {
      "tags": []
     },
     "output_type": "execute_result"
    }
   ],
   "source": [
    "clean_summary[:10]"
   ]
  },
  {
   "cell_type": "code",
   "execution_count": 0,
   "metadata": {
    "colab": {},
    "colab_type": "code",
    "id": "SljkJuhQFA1R"
   },
   "outputs": [],
   "source": [
    "data['clean_text']=clean_text\n",
    "data['clean_summary']=clean_summary"
   ]
  },
  {
   "cell_type": "code",
   "execution_count": 0,
   "metadata": {
    "colab": {},
    "colab_type": "code",
    "id": "rLbBiN1BFBgp"
   },
   "outputs": [],
   "source": [
    "data.replace('', np.nan, inplace=True)\n",
    "data.dropna(axis=0,inplace=True)"
   ]
  },
  {
   "cell_type": "code",
   "execution_count": 24,
   "metadata": {
    "colab": {
     "base_uri": "https://localhost:8080/",
     "height": 34
    },
    "colab_type": "code",
    "id": "peUoZ068FPnR",
    "outputId": "b85533fc-3192-413d-b98f-fe1076f53de7"
   },
   "outputs": [
    {
     "name": "stdout",
     "output_type": "stream",
     "text": [
      "0.9999694997966653\n"
     ]
    }
   ],
   "source": [
    "cnt=0\n",
    "for i in data['clean_summary']:\n",
    "    if(len(i.split())<=15):\n",
    "        cnt=cnt+1\n",
    "print(cnt/len(data['clean_summary']))"
   ]
  },
  {
   "cell_type": "code",
   "execution_count": 0,
   "metadata": {
    "colab": {},
    "colab_type": "code",
    "id": "YDSdsc2JFSyZ"
   },
   "outputs": [],
   "source": [
    "max_text=100\n",
    "max_summ=15"
   ]
  },
  {
   "cell_type": "code",
   "execution_count": 0,
   "metadata": {
    "colab": {},
    "colab_type": "code",
    "id": "ckAHkO9DFVCk"
   },
   "outputs": [],
   "source": [
    "clean_text =np.array(data['clean_text'])\n",
    "clean_summary=np.array(data['clean_summary'])\n",
    "\n",
    "short_txt=[]\n",
    "short_summ=[]\n",
    "\n",
    "for i in range(len(clean_text)):\n",
    "    if(len(clean_summary[i].split())<=max_summ and len(clean_text[i].split())<=max_text):\n",
    "        short_txt.append(clean_text[i])\n",
    "        short_summ.append(clean_summary[i])\n",
    "        \n",
    "df=pd.DataFrame({'text':short_txt,'summary':short_summ})"
   ]
  },
  {
   "cell_type": "code",
   "execution_count": 0,
   "metadata": {
    "colab": {},
    "colab_type": "code",
    "id": "iW9IY0JgFXTN"
   },
   "outputs": [],
   "source": [
    "df['summary'] = df['summary'].apply(lambda x : 'sostok '+ x + ' eostok')"
   ]
  },
  {
   "cell_type": "code",
   "execution_count": 0,
   "metadata": {
    "colab": {},
    "colab_type": "code",
    "id": "xZOw9Z1DFZn0"
   },
   "outputs": [],
   "source": [
    "from sklearn.model_selection import train_test_split\n",
    "x_train,x_test,y_train,y_test=train_test_split(np.array(df['text']),np.array(df['summary']),test_size=0.1,random_state=0,shuffle=True)"
   ]
  },
  {
   "cell_type": "code",
   "execution_count": 0,
   "metadata": {
    "colab": {},
    "colab_type": "code",
    "id": "JBG8gLVLFcuF"
   },
   "outputs": [],
   "source": [
    "from keras.preprocessing.text import Tokenizer \n",
    "from keras.preprocessing.sequence import pad_sequences\n",
    "\n",
    "x_tokenizer = Tokenizer() \n",
    "x_tokenizer.fit_on_texts(list(x_train))"
   ]
  },
  {
   "cell_type": "code",
   "execution_count": 30,
   "metadata": {
    "colab": {
     "base_uri": "https://localhost:8080/",
     "height": 50
    },
    "colab_type": "code",
    "id": "2Y_uvsu6FgGO",
    "outputId": "0bf89151-ea28-4fdc-f037-79c4811a4bfd"
   },
   "outputs": [
    {
     "name": "stdout",
     "output_type": "stream",
     "text": [
      "% of rare words in vocabulary: 57.23066791065254\n",
      "Total Coverage of rare words: 2.0243197740342107\n"
     ]
    }
   ],
   "source": [
    "thresh=4\n",
    "cnt=0\n",
    "tot_cnt=0\n",
    "freq=0\n",
    "tot_freq=0\n",
    "\n",
    "for key,value in x_tokenizer.word_counts.items():\n",
    "    tot_cnt=tot_cnt+1\n",
    "    tot_freq=tot_freq+value\n",
    "    if(value<thresh):\n",
    "        cnt=cnt+1\n",
    "        freq=freq+value\n",
    "    \n",
    "print(\"% of rare words in vocabulary:\",(cnt/tot_cnt)*100)\n",
    "print(\"Total Coverage of rare words:\",(freq/tot_freq)*100)"
   ]
  },
  {
   "cell_type": "code",
   "execution_count": 0,
   "metadata": {
    "colab": {},
    "colab_type": "code",
    "id": "FpwuHXYRFijl"
   },
   "outputs": [],
   "source": [
    "x_tokenizer = Tokenizer(num_words=tot_cnt-cnt) \n",
    "x_tokenizer.fit_on_texts(list(x_train))\n",
    "x_train_seq    =   x_tokenizer.texts_to_sequences(x_train) \n",
    "x_test_seq   =   x_tokenizer.texts_to_sequences(x_test)\n",
    "x_train    =   pad_sequences(x_tr_seq,  maxlen=max_text_len, padding='post')\n",
    "x_test   =   pad_sequences(x_val_seq, maxlen=max_text_len, padding='post')\n",
    "\n",
    "x_voc   =  x_tokenizer.num_words + 1"
   ]
  },
  {
   "cell_type": "code",
   "execution_count": 32,
   "metadata": {
    "colab": {
     "base_uri": "https://localhost:8080/",
     "height": 34
    },
    "colab_type": "code",
    "id": "ljIMUoQjFk6L",
    "outputId": "f5deda4f-470c-44be-961b-e1b8fbaf5515"
   },
   "outputs": [
    {
     "data": {
      "text/plain": [
       "31173"
      ]
     },
     "execution_count": 32,
     "metadata": {
      "tags": []
     },
     "output_type": "execute_result"
    }
   ],
   "source": [
    "x_voc"
   ]
  },
  {
   "cell_type": "code",
   "execution_count": 0,
   "metadata": {
    "colab": {},
    "colab_type": "code",
    "id": "oPPVDDDEFnNf"
   },
   "outputs": [],
   "source": [
    "y_tokenizer = Tokenizer()   \n",
    "y_tokenizer.fit_on_texts(list(y_train))"
   ]
  },
  {
   "cell_type": "code",
   "execution_count": 34,
   "metadata": {
    "colab": {
     "base_uri": "https://localhost:8080/",
     "height": 50
    },
    "colab_type": "code",
    "id": "2aAd4_ROFqYO",
    "outputId": "1d8feab1-23ad-4b09-846c-fbd0606b5429"
   },
   "outputs": [
    {
     "name": "stdout",
     "output_type": "stream",
     "text": [
      "% of rare words in vocabulary: 64.69799086466286\n",
      "Total Coverage of rare words: 3.888618915346296\n"
     ]
    }
   ],
   "source": [
    "thresh=6\n",
    "cnt=0\n",
    "tot_cnt=0\n",
    "freq=0\n",
    "tot_freq=0\n",
    "\n",
    "for key,value in y_tokenizer.word_counts.items():\n",
    "    tot_cnt=tot_cnt+1\n",
    "    tot_freq=tot_freq+value\n",
    "    if(value<thresh):\n",
    "        cnt=cnt+1\n",
    "        freq=freq+value\n",
    "    \n",
    "print(\"% of rare words in vocabulary:\",(cnt/tot_cnt)*100)\n",
    "print(\"Total Coverage of rare words:\",(freq/tot_freq)*100)"
   ]
  },
  {
   "cell_type": "code",
   "execution_count": 0,
   "metadata": {
    "colab": {},
    "colab_type": "code",
    "id": "Zhes6CY3FsrH"
   },
   "outputs": [],
   "source": [
    "y_tokenizer = Tokenizer(num_words=tot_cnt-cnt) \n",
    "y_tokenizer.fit_on_texts(list(y_train))\n",
    "y_train_seq    =   y_tokenizer.texts_to_sequences(y_train) \n",
    "y_test_seq   =   y_tokenizer.texts_to_sequences(y_test) \n",
    "y_train    =   pad_sequences(y_train_seq, maxlen=max_summary_len, padding='post')\n",
    "y_test   =   pad_sequences(y_test_seq, maxlen=max_summary_len, padding='post')\n",
    "\n",
    "y_voc  =   y_tokenizer.num_words +1"
   ]
  },
  {
   "cell_type": "code",
   "execution_count": 36,
   "metadata": {
    "colab": {
     "base_uri": "https://localhost:8080/",
     "height": 34
    },
    "colab_type": "code",
    "id": "fUT91I2tFvj6",
    "outputId": "d2d5a7eb-ed33-43ea-e71e-1b2fd44d3bd4"
   },
   "outputs": [
    {
     "data": {
      "text/plain": [
       "(88521, 88521)"
      ]
     },
     "execution_count": 36,
     "metadata": {
      "tags": []
     },
     "output_type": "execute_result"
    }
   ],
   "source": [
    "y_tokenizer.word_counts['sostok'],len(y_train)"
   ]
  },
  {
   "cell_type": "code",
   "execution_count": 0,
   "metadata": {
    "colab": {},
    "colab_type": "code",
    "id": "61s2noqTFzxD"
   },
   "outputs": [],
   "source": [
    "ind=[]\n",
    "for i in range(len(y_train)):\n",
    "    cnt=0\n",
    "    for j in y_train[i]:\n",
    "        if j!=0:\n",
    "            cnt=cnt+1\n",
    "    if(cnt==2):\n",
    "        ind.append(i)\n",
    "\n",
    "y_train=np.delete(y_train,ind, axis=0)\n",
    "x_train=np.delete(x_train,ind, axis=0)"
   ]
  },
  {
   "cell_type": "code",
   "execution_count": 0,
   "metadata": {
    "colab": {},
    "colab_type": "code",
    "id": "O3sHPMuZF2ut"
   },
   "outputs": [],
   "source": [
    "ind=[]\n",
    "for i in range(len(y_test)):\n",
    "    cnt=0\n",
    "    for j in y_test[i]:\n",
    "        if j!=0:\n",
    "            cnt=cnt+1\n",
    "    if(cnt==2):\n",
    "        ind.append(i)\n",
    "\n",
    "y_test=np.delete(y_test,ind, axis=0)\n",
    "x_test=np.delete(x_test,ind, axis=0)"
   ]
  },
  {
   "cell_type": "code",
   "execution_count": 40,
   "metadata": {
    "colab": {
     "base_uri": "https://localhost:8080/",
     "height": 675
    },
    "colab_type": "code",
    "id": "VyIMzWByF4tw",
    "outputId": "410a384e-bf2c-4d0e-90bc-e0a44746a864"
   },
   "outputs": [
    {
     "name": "stdout",
     "output_type": "stream",
     "text": [
      "WARNING:tensorflow:Layer lstm will not use cuDNN kernel since it doesn't meet the cuDNN kernel criteria. It will use generic GPU kernel as fallback when running on GPU\n",
      "WARNING:tensorflow:Layer lstm_1 will not use cuDNN kernel since it doesn't meet the cuDNN kernel criteria. It will use generic GPU kernel as fallback when running on GPU\n",
      "WARNING:tensorflow:Layer lstm_2 will not use cuDNN kernel since it doesn't meet the cuDNN kernel criteria. It will use generic GPU kernel as fallback when running on GPU\n",
      "WARNING:tensorflow:Layer lstm_3 will not use cuDNN kernel since it doesn't meet the cuDNN kernel criteria. It will use generic GPU kernel as fallback when running on GPU\n",
      "Model: \"model\"\n",
      "__________________________________________________________________________________________________\n",
      "Layer (type)                    Output Shape         Param #     Connected to                     \n",
      "==================================================================================================\n",
      "input_1 (InputLayer)            [(None, 100)]        0                                            \n",
      "__________________________________________________________________________________________________\n",
      "embedding (Embedding)           (None, 100, 100)     3117300     input_1[0][0]                    \n",
      "__________________________________________________________________________________________________\n",
      "lstm (LSTM)                     [(None, 100, 300), ( 481200      embedding[0][0]                  \n",
      "__________________________________________________________________________________________________\n",
      "input_2 (InputLayer)            [(None, None)]       0                                            \n",
      "__________________________________________________________________________________________________\n",
      "lstm_1 (LSTM)                   [(None, 100, 300), ( 721200      lstm[0][0]                       \n",
      "__________________________________________________________________________________________________\n",
      "embedding_1 (Embedding)         (None, None, 100)    1105300     input_2[0][0]                    \n",
      "__________________________________________________________________________________________________\n",
      "lstm_2 (LSTM)                   [(None, 100, 300), ( 721200      lstm_1[0][0]                     \n",
      "__________________________________________________________________________________________________\n",
      "lstm_3 (LSTM)                   [(None, None, 300),  481200      embedding_1[0][0]                \n",
      "                                                                 lstm_2[0][1]                     \n",
      "                                                                 lstm_2[0][2]                     \n",
      "__________________________________________________________________________________________________\n",
      "attention_layer (AttentionLayer ((None, None, 300),  180300      lstm_2[0][0]                     \n",
      "                                                                 lstm_3[0][0]                     \n",
      "__________________________________________________________________________________________________\n",
      "concat_layer (Concatenate)      (None, None, 600)    0           lstm_3[0][0]                     \n",
      "                                                                 attention_layer[0][0]            \n",
      "__________________________________________________________________________________________________\n",
      "time_distributed (TimeDistribut (None, None, 11053)  6642853     concat_layer[0][0]               \n",
      "==================================================================================================\n",
      "Total params: 13,450,553\n",
      "Trainable params: 13,450,553\n",
      "Non-trainable params: 0\n",
      "__________________________________________________________________________________________________\n"
     ]
    }
   ],
   "source": [
    "from keras import backend as K \n",
    "K.clear_session()\n",
    "latent_dim = 300\n",
    "embedding_dim=100\n",
    "\n",
    "encoder_inputs = Input(shape=(max_text_len,))\n",
    "enc_emb =  Embedding(x_voc, embedding_dim,trainable=True)(encoder_inputs)\n",
    "\n",
    "#lstm 1\n",
    "encoder_lstm1 = LSTM(latent_dim,return_sequences=True,return_state=True,dropout=0.4,recurrent_dropout=0.4)\n",
    "encoder_output1, state_h1, state_c1 = encoder_lstm1(enc_emb)\n",
    "\n",
    "#lstm 2\n",
    "encoder_lstm2 = LSTM(latent_dim,return_sequences=True,return_state=True,dropout=0.4,recurrent_dropout=0.4)\n",
    "encoder_output2, state_h2, state_c2 = encoder_lstm2(encoder_output1)\n",
    "\n",
    "#lstm 3\n",
    "encoder_lstm3=LSTM(latent_dim, return_state=True, return_sequences=True,dropout=0.4,recurrent_dropout=0.4)\n",
    "encoder_outputs, state_h, state_c= encoder_lstm3(encoder_output2)\n",
    "\n",
    "decoder_inputs = Input(shape=(None,))\n",
    "\n",
    "dec_emb_layer = Embedding(y_voc, embedding_dim,trainable=True)\n",
    "dec_emb = dec_emb_layer(decoder_inputs)\n",
    "\n",
    "decoder_lstm = LSTM(latent_dim, return_sequences=True, return_state=True,dropout=0.4,recurrent_dropout=0.2)\n",
    "decoder_outputs,decoder_fwd_state, decoder_back_state = decoder_lstm(dec_emb,initial_state=[state_h, state_c])\n",
    "\n",
    "attn_layer = AttentionLayer(name='attention_layer')\n",
    "attn_out, attn_states = attn_layer([encoder_outputs, decoder_outputs])\n",
    "\n",
    "decoder_concat_input = Concatenate(axis=-1, name='concat_layer')([decoder_outputs, attn_out])\n",
    "\n",
    "decoder_dense =  TimeDistributed(Dense(y_voc, activation='softmax'))\n",
    "decoder_outputs = decoder_dense(decoder_concat_input)\n",
    " \n",
    "model = Model([encoder_inputs, decoder_inputs], decoder_outputs)\n",
    "\n",
    "model.summary()"
   ]
  },
  {
   "cell_type": "code",
   "execution_count": 0,
   "metadata": {
    "colab": {},
    "colab_type": "code",
    "id": "4FNurb4pGAI4"
   },
   "outputs": [],
   "source": [
    "model.compile(optimizer='rmsprop', loss='sparse_categorical_crossentropy')"
   ]
  },
  {
   "cell_type": "code",
   "execution_count": 0,
   "metadata": {
    "colab": {},
    "colab_type": "code",
    "id": "cwCm-Q3wGDLE"
   },
   "outputs": [],
   "source": [
    "es = EarlyStopping(monitor='val_loss', mode='min', verbose=1,patience=2)"
   ]
  },
  {
   "cell_type": "code",
   "execution_count": 44,
   "metadata": {
    "colab": {
     "base_uri": "https://localhost:8080/",
     "height": 185
    },
    "colab_type": "code",
    "id": "i-hy5LgtGF0E",
    "outputId": "8920317e-e84a-4b11-9dfc-e7dc4b822c12"
   },
   "outputs": [
    {
     "name": "stdout",
     "output_type": "stream",
     "text": [
      "Epoch 1/5\n",
      "692/692 [==============================] - 1582s 2s/step - loss: 4.6696 - val_loss: 4.3253\n",
      "Epoch 2/5\n",
      "692/692 [==============================] - 1573s 2s/step - loss: 4.1943 - val_loss: 4.0140\n",
      "Epoch 3/5\n",
      "692/692 [==============================] - 1574s 2s/step - loss: 3.9274 - val_loss: 3.8322\n",
      "Epoch 4/5\n",
      "692/692 [==============================] - 1567s 2s/step - loss: 3.7412 - val_loss: 3.7013\n",
      "Epoch 5/5\n",
      "692/692 [==============================] - 1554s 2s/step - loss: 3.5929 - val_loss: 3.5764\n"
     ]
    }
   ],
   "source": [
    "history=model.fit([x_train,y_train[:,:-1]], y_train.reshape(y_train.shape[0],y_train.shape[1], 1)[:,1:] ,epochs=5,callbacks=[es],batch_size=128, validation_data=([x_test,y_test[:,:-1]], y_test.reshape(y_test.shape[0],y_test.shape[1], 1)[:,1:]))"
   ]
  },
  {
   "cell_type": "code",
   "execution_count": 0,
   "metadata": {
    "colab": {},
    "colab_type": "code",
    "id": "sRTmi3jsGIUa"
   },
   "outputs": [],
   "source": [
    "reverse_target_word_index=y_tokenizer.index_word\n",
    "reverse_source_word_index=x_tokenizer.index_word\n",
    "target_word_index=y_tokenizer.word_index"
   ]
  },
  {
   "cell_type": "code",
   "execution_count": 0,
   "metadata": {
    "colab": {},
    "colab_type": "code",
    "id": "GHVp2KEIKiru"
   },
   "outputs": [],
   "source": [
    "encoder_model = Model(inputs=encoder_inputs,outputs=[encoder_outputs, state_h, state_c])\n",
    "\n",
    "decoder_state_input_h = Input(shape=(latent_dim,))\n",
    "decoder_state_input_c = Input(shape=(latent_dim,))\n",
    "decoder_hidden_state_input = Input(shape=(max_text_len,latent_dim))\n",
    "\n",
    "dec_emb2= dec_emb_layer(decoder_inputs) \n",
    "decoder_outputs2, state_h2, state_c2 = decoder_lstm(dec_emb2, initial_state=[decoder_state_input_h, decoder_state_input_c])\n",
    "\n",
    "attn_out_inf, attn_states_inf = attn_layer([decoder_hidden_state_input, decoder_outputs2])\n",
    "decoder_inf_concat = Concatenate(axis=-1, name='concat')([decoder_outputs2, attn_out_inf])\n",
    "\n",
    "decoder_outputs2 = decoder_dense(decoder_inf_concat) \n",
    "\n",
    "decoder_model = Model(\n",
    "    [decoder_inputs] + [decoder_hidden_state_input,decoder_state_input_h, decoder_state_input_c],\n",
    "    [decoder_outputs2] + [state_h2, state_c2])"
   ]
  },
  {
   "cell_type": "code",
   "execution_count": 0,
   "metadata": {
    "colab": {},
    "colab_type": "code",
    "id": "K_c6tnOWKl4i"
   },
   "outputs": [],
   "source": [
    "def decode_sequence(input_seq):\n",
    "    e_out, e_h, e_c = encoder_model.predict(input_seq)\n",
    "    target_seq = np.zeros((1,1))\n",
    "    target_seq[0, 0] = target_word_index['sostok']\n",
    "\n",
    "    stop = False\n",
    "    decoded_sentence = ''\n",
    "    while not stop:\n",
    "      \n",
    "        output_tokens, h, c = decoder_model.predict([target_seq] + [e_out, e_h, e_c])\n",
    "\n",
    "        sampled_token_index = np.argmax(output_tokens[0, -1, :])\n",
    "        sampled_token = reverse_target_word_index[sampled_token_index]\n",
    "        \n",
    "        if(sampled_token!='eostok'):\n",
    "            decoded_sentence += ' '+sampled_token\n",
    "\n",
    "        if (sampled_token == 'eostok'  or len(decoded_sentence.split()) >= (max_summ-1)):\n",
    "            stop = True\n",
    "        target_seq = np.zeros((1,1))\n",
    "        target_seq[0, 0] = sampled_token_index\n",
    "        e_h, e_c = h, c\n",
    "\n",
    "    return decoded_sentence"
   ]
  },
  {
   "cell_type": "code",
   "execution_count": 0,
   "metadata": {
    "colab": {},
    "colab_type": "code",
    "id": "FQrhe2RAKpni"
   },
   "outputs": [],
   "source": [
    "def seq2summary(input_seq):\n",
    "    ns=''\n",
    "    for i in input_seq:\n",
    "        if((i!=0 and i!=target_word_index['sostok']) and i!=target_word_index['eostok']):\n",
    "            ns=ns+reverse_target_word_index[i]+' '\n",
    "    return ns\n",
    "\n",
    "def seq2text(input_seq):\n",
    "    ns=''\n",
    "    for i in input_seq:\n",
    "        if(i!=0):\n",
    "            ns=ns+reverse_source_word_index[i]+' '\n",
    "    return ns"
   ]
  },
  {
   "cell_type": "code",
   "execution_count": 49,
   "metadata": {
    "colab": {
     "base_uri": "https://localhost:8080/",
     "height": 1000
    },
    "colab_type": "code",
    "id": "iohl6DhBKtB-",
    "outputId": "62bd6fc7-74e4-49ee-a5f8-b4ce199711a3"
   },
   "outputs": [
    {
     "name": "stdout",
     "output_type": "stream",
     "text": [
      "Review: opener prithvi shaw slipped trying sweep delivery got bowled process india practice match cricket australia xi thursday year old lost balance daniel delivery turned around legs hit stumps shaw scored runs balls included fours \n",
      "Original summary: prithvi shaw slips while playing delivery gets bowled out \n",
      "Predicted summary:  rohit sharma takes out of his st test ton in australia\n",
      "\n",
      "\n",
      "Review: encouraging farmers adopt drip irrigation system prime minister narendra modi said per drop crops motto interacting farmers via namo app pm added government tried remove middlemen system ensure farmers receive right price products \n",
      "Original summary: our should be per drop more crop pm modi to farmers \n",
      "Predicted summary:  pm modi to launch pm modi for farmers\n",
      "\n",
      "\n",
      "Review: us added pakistan blacklist countries violate religious freedom us state secretary mike pompeo designated pakistan among countries particular concern engaged tolerated systematic ongoing egregious violations religious freedom also designated al qaeda boko haram isis taliban among others entities particular concern \n",
      "Original summary: us adds pakistan to blacklist for religious freedom violations \n",
      "Predicted summary:  us will not be used to be in us if it is not\n",
      "\n",
      "\n",
      "Review: american technology company microsoft topped thomson reuters list top global technology leaders us based chipmaker intel computer networking company cisco followed microsoft take second third position list respectively technology giant apple google parent alphabet also marked places top list \n",
      "Original summary: microsoft tops top global tech leaders list \n",
      "Predicted summary:  microsoft to launch in india for st time in years\n",
      "\n",
      "\n",
      "Review: th century bronze buddha statue stolen asi museum nalanda bihar years ago returned london metropolitan police independence day statue among stolen surfaced many years later auction london identified police cooperated met art antiques unit return statue \n",
      "Original summary: uk returns indian statue stolen years ago on day \n",
      "Predicted summary:  world oldest expensive woman to be held for years\n",
      "\n",
      "\n",
      "Review: pm narendra modi said india would disease free country programmes like swachh bharat abhiyan launched years back added opposition used make fun would talk cleanliness swachhta abhiyan directly connected health pm modi said addressing gathering gujarat \n",
      "Original summary: we would be disease free if swachh bharat began yrs ago pm modi \n",
      "Predicted summary:  india is the best of pm modi on india\n",
      "\n",
      "\n",
      "Review: waiter allegedly killed chef restaurant hitting cylinder maharashtra thane district thursday two reportedly got argument much time taken chef prepare food often made customers leave accused fled incident run \n",
      "Original summary: mumbai chef killed by waiter over delay in preparing food \n",
      "Predicted summary:  dead as fire found dead in mumbai\n",
      "\n",
      "\n",
      "Review: india largest airline indigo sunday reported temporary nationwide system failure left passengers stranded several airports glitch eventually rectified operations resumed normally reporting system failure airline earlier said would expect counters crowded usual asked passengers patient cooperate \n",
      "Original summary: indigo reports nationwide system failure passengers stranded \n",
      "Predicted summary:  indigo to get flyers to check flyers to check\n",
      "\n",
      "\n",
      "Review: footballer saudi arabia facing jail dabbing match act illegal country footballer seen dabbing near technical area rejecting high five another player substitutes bench dabbing strictly forbidden saudi arabia authorities perceived link drug use \n",
      "Original summary: saudi player facing jail for during football match \n",
      "Predicted summary:  saudi arabia bans ban on saudi arabia\n",
      "\n",
      "\n",
      "Review: government proposed supreme court neet like examination recruit judges lower judiciary vacancies judges subordinate courts india per figures released december besides neet model law ministry also proposed centralised examination could held recruitment body \n",
      "Original summary: govt proposes neet like exam to recruit lower courts judges \n",
      "Predicted summary:  sc asks centre to ban on centre for st time in sc\n",
      "\n",
      "\n",
      "Review: doctors mumbai lilavati hospital said veteran actor dilip kumar recuperating well conscious added observation icu next two three days today fever breathlessness said hospital vice president year old actor admitted hospital wednesday suffered dehydration urinary tract infection \n",
      "Original summary: dilip kumar will be in icu for days doctors \n",
      "Predicted summary:  mumbai police to be held for years\n",
      "\n",
      "\n",
      "Review: real madrid sealed aggregate win psg tuesday enter champions league quarter finals eighth straight season second leg saw cristiano ronaldo become second player cl history score nine consecutive matches van meanwhile liverpool also advanced aggregate win porto \n",
      "Original summary: ronaldo equals scoring record as real madrid reach cl last \n",
      "Predicted summary:  ronaldo scores in real madrid to win in\n",
      "\n",
      "\n",
      "Review: american online file sharing platform dropbox entered agreement acquire electronic signature startup million cash deal expected close first quarter founded joseph neal mara us based startup also offers digital electronic fax solutions manage business transactions \n",
      "Original summary: dropbox to buy startup for million \n",
      "Predicted summary:  facebook to invest mn in mn in series report\n",
      "\n",
      "\n",
      "Review: centre wednesday announced total overhaul university grants commission act new legislation set higher education commission india new body expected provide autonomy flexibility institutes recently centre dropped plans set single education regulator \n",
      "Original summary: centre begins process to scrap education regulator ugc \n",
      "Predicted summary:  govt approves centre for not ban on\n",
      "\n",
      "\n",
      "Review: ex team india captain sourav ganguly said gets surprised every time see rohit sharma name test team comes year old failed make member team india squad upcoming test series windies rohit averages test cricket scoring runs test cricket \n",
      "Original summary: get surprised when do not see rohit name in test team ganguly \n",
      "Predicted summary:  shastri should not be out of india shastri on shastri\n",
      "\n",
      "\n",
      "Review: aap led delhi assembly friday passed resolution demanding bharat ratna awarded late prime minister rajiv gandhi withdrawn claiming justified anti sikh riots however aap mla saurabh bharadwaj claimed original resolution mention rajiv mla somnath bharti wrote line note another mla reportedly moved resolution \n",
      "Original summary: aap govt passes resolution for rajiv bharat ratna to be withdrawn \n",
      "Predicted summary:  aap to give aap to aap mlas on delhi cm\n",
      "\n",
      "\n",
      "Review: choreographer remo souza choreographed radio song upcoming film tubelight said salman khan learns steps ten minutes set added salman never prepares dance steps beforehand radio song first track film whose video released subtitles languages \n",
      "Original summary: salman learns his steps in minutes on set remo souza \n",
      "Predicted summary:  salman to play in film with salman\n",
      "\n",
      "\n",
      "Review: mit astronomers studied periodic pulse rays different observations black hole consuming star suggests spinning half speed light black hole first spotted ray signal appears emerge area close black hole edge event horizon astronomers said \n",
      "Original summary: star eating black hole found at half of light speed \n",
      "Predicted summary:  astronomers find way to earth planet\n",
      "\n",
      "\n",
      "Review: puducherry year old spinner singh picked wickets innings manipur col ck nayudu trophy match saturday figures helped puducherry bowl manipur runs overs youngster originally mumbai roped outstation player puducherry \n",
      "Original summary: year old puducherry spinner takes all wickets in an innings \n",
      "Predicted summary:  yr old pacer becomes st ever to score in ipl\n",
      "\n",
      "\n",
      "Review: cricket commentator harsha bhogle took dig world xi claiming best thing teams attract lot attention always lose bhogle remark came world xi lost pakistan lahore tuesday bhogle added series world xi playing cricket pakistan \n",
      "Original summary: world xi attracts lot of attention and they lose bhogle \n",
      "Predicted summary:  india is not good indian team to india\n",
      "\n",
      "\n",
      "Review: prosecutors spain charged colombian singer shakira tax evasion alleging avoided million taxes prosecutors alleged shakira changed residence bahamas barcelona already living barcelona added paid tax worldwide income years spain \n",
      "Original summary: charged with crore in taxes in spain \n",
      "Predicted summary:  rbi to pay crore to deposit crore\n",
      "\n",
      "\n",
      "Review: madras high court passed verdict favour dhanush paternity case filed elderly couple madurai based couple approached court claiming son also sought maintenance could produce evidence favour leading court dismiss case \n",
      "Original summary: dhanush wins paternity case filed by elderly couple \n",
      "Predicted summary:  hc rejects plea to be who died in jail\n",
      "\n",
      "\n",
      "Review: government wait concrete evidence taking action heads state owned lenders syndicate bank indian bank financial services secretary rajiv kumar said take action based hearsay kumar added executives booked crore loan fraud case involving companies former aircel promoter sivasankaran \n",
      "Original summary: will not act against bank chiefs without evidence govt \n",
      "Predicted summary:  rbi to pay cr to pay for bank sbi\n",
      "\n",
      "\n",
      "Review: union minister hansraj ahir monday asked senior doctors hospital maharashtra chandrapur join naxals remained absent medical store inauguration ahir attending adding doctors support democracy ahir said pump bullets dispensing pills \n",
      "Original summary: join naxals will shoot you minister tells absent doctors \n",
      "Predicted summary:  govt to get medical to check in maharashtra\n",
      "\n",
      "\n",
      "Review: upcoming visit country nepal prime minister kp sharma oli press india exchange demonetised notes worth crore held nepal indian demonetisation hurt nepali nationals oli said last year reserve bank india verbally agreed allow every nepali national exchange worth demonetised notes \n",
      "Original summary: nepal to press india to swap crore in demonetised notes \n",
      "Predicted summary:  pm modi to give cr to buy money for india\n",
      "\n",
      "\n",
      "Review: actress kriti sanon reacting row priyanka chopra wearing dress meeting pm modi said people need stop telling women wear else mentioned meeting please wear burkha added kriti priyanka trolled covering legs meeting modi \n",
      "Original summary: do not tell women what to wear kriti on priyanka dress row \n",
      "Predicted summary:  am not know about my time to be made for my time priyanka\n",
      "\n",
      "\n",
      "Review: police arrested two men allegedly stealing antiques including gold tiffin box studded diamonds cup nizam museum hyderabad last week adding stolen items recovered police stated special teams formed probe theft items could fetched crore dubai cop said \n",
      "Original summary: held for stealing at hyderabad museum all items recovered \n",
      "Predicted summary:  arrested for stealing gold in delhi\n",
      "\n",
      "\n",
      "Review: year old female trainee constable hanged death telangana state police academy saturday committed suicide receiving information friend police constable suicide police said excused colleagues admitting feeling depressed later found hanging noose room \n",
      "Original summary: female trainee constable hangs herself at telangana academy \n",
      "Predicted summary:  year old man dies after being dead in up\n",
      "\n",
      "\n",
      "Review: fortis healthcare shareholders approved malaysia ihh healthcare binding offer take control india second largest hospital chain ihh initially invest crore per share fortis stake depending success open offer acquire another public shareholders ihh hold stake \n",
      "Original summary: fortis shareholders approve ihh cr takeover offer \n",
      "Predicted summary:  india to invest lakh in india for years\n",
      "\n",
      "\n",
      "Review: twitter user reportedly completed mobile puzzle game exactly three one third years released app store game previously considered unbeatable involves sliding tiles similar numbers form biggest number however found reaching screen shows light plays game ending animation \n",
      "Original summary: game completed years after release \n",
      "Predicted summary:  twitter users to launch in india\n",
      "\n",
      "\n",
      "Review: cctv footage petrol pump tamil nadu tirunelveli shows motorcycle suddenly catching fire owner got full tank could seen man shirt also caught fire following jumped away bike reportedly petrol overflowed tank getting filled \n",
      "Original summary: bike catches fire at petrol pump after man fills full tank \n",
      "Predicted summary:  video of delhi students in mumbai\n",
      "\n",
      "\n",
      "Review: shujaat bukhari shot dead terrorists jammu kashmir srinagar leaving office today editor regional newspaper rising kashmir previously kashmir bureau chief hindu years shujaat provided police protection since attack \n",
      "Original summary: who was shujaat bukhari journalist shot dead by terrorists \n",
      "Predicted summary:  killed in encounter in kashmir\n",
      "\n",
      "\n",
      "Review: recalling australian cricket teams faced career indian cricketer harbhajan singh said team shadow australian side australian side competed top seven eight blokes match winners anyone could come win match right harbhajan added \n",
      "Original summary: smith australia not shadow of team played harbhajan \n",
      "Predicted summary:  will not be out of india if he is not in australia\n",
      "\n",
      "\n",
      "Review: four teams champions trophy group two points remaining matches abandoned team end three points india south africa qualifying due higher run rate india sa match washed india qualify sl pakistan match washed sl advance \n",
      "Original summary: what happens if both games of india group are washed out \n",
      "Predicted summary:  india to play in fifa world cup final\n",
      "\n",
      "\n",
      "Review: us president donald trump said administration label china currency manipulator backing away campaign promise think dollar getting strong partially fault people confidence trump added notably china taken action north korea president xi jinping met trump recently \n",
      "Original summary: trump changes his stance on china currency \n",
      "Predicted summary:  trump slams us for not to make us trade deal\n",
      "\n",
      "\n",
      "Review: lawyer us president donald trump paid lakh ex pornstar presidential election wall street journal report claimed amount reportedly paid woman publicly discuss alleged sexual encounter trump however white house official denied report saying old recycled reports \n",
      "Original summary: trump paid for pornstar silence on sex affair report \n",
      "Predicted summary:  trump slams trump for not paying sex to ex prez\n",
      "\n",
      "\n",
      "Review: nasa shared first ever close image sun captured parker solar probe first ever mission enter sun outer atmosphere image showing bright coronal captured november distance crore kilometres sun bright object near centre image mercury nasa revealed \n",
      "Original summary: nasa solar probe shares st up close image of sun \n",
      "Predicted summary:  nasa to launch nasa for planet planet\n",
      "\n",
      "\n",
      "Review: american man found lottery ticket almost four months ago cleaning glove compartment truck following james wright checked numbers realised virginia lottery james wife said pay bills refurbish home money \n",
      "Original summary: man finds forgotten lottery ticket worth in truck \n",
      "Predicted summary:  man worth lakh for lakh in bitcoin\n",
      "\n",
      "\n",
      "Review: researchers iit kharagpur developed pollution free method uses natural resources extract biofuel converting waste soil soil technology process patented breaks biomass without chemicals making manufacturing process cheaper quicker researchers said notably india aims blend biofuel petrol year end \n",
      "Original summary: iit kharagpur develops new technology to \n",
      "Predicted summary:  bengaluru to get its own system to\n",
      "\n",
      "\n",
      "Review: two small planes collided mid air shopping centre montreal canada friday leaving pilot dead another critically injured police said one planes crashed saint bruno shopping centre second hit parking lot canadian transportation safety board said planes belonged nearby pilot training school \n",
      "Original summary: planes crash mid air over mall in canada \n",
      "Predicted summary:  plane who killed in air crash after crash\n",
      "\n",
      "\n",
      "Review: children fell ill wednesday rushed hospital consuming midday meal delhi school police said students claimed found lizard meal meanwhile doctor said students stable condition likely discharged soon \n",
      "Original summary: ill as kids find lizard in meal at delhi school \n",
      "Predicted summary:  dead in delhi hospital after being dead\n",
      "\n",
      "\n",
      "Review: filmmaker karan johar said twins yash roohi kareena kapoor son taimur first picture together break internet kareena decided taimur birthday party yash roohi make debut appearance added johar said excited photograph together \n",
      "Original summary: twins taimur st pic together will break internet johar \n",
      "Predicted summary:  ranveer shares pic with kareena kareena\n",
      "\n",
      "\n",
      "Review: external affairs minister sushma swaraj saturday called upon united nations pass comprehensive convention international terrorism end pakistan sponsored terrorism proposed india aims arrive universal definition terrorism ban terror groups prosecute terrorists special laws make cross border terrorism offence \n",
      "Original summary: india calls on un to pass global anti terror convention \n",
      "Predicted summary:  india to be down in pakistan\n",
      "\n",
      "\n",
      "Review: motion poster kajol dhanush tamil film vip released sequel tamil comedy drama film film directed rajinikanth daughter soundarya rajinikanth trailer released june \n",
      "Original summary: motion poster of kajol dhanush tamil film vip released \n",
      "Predicted summary:  trailer of rajinikanth dutt starrer dutt released\n",
      "\n",
      "\n",
      "Review: slamming bjp note ban congress mp shashi tharoor wednesday claimed demonetisation pain gain figures point around people died either standing bank queue denied medical treatment demonetised currency added \n",
      "Original summary: demonetisation has been all pain and no gain shashi tharoor \n",
      "Predicted summary:  tharoor should not be used to bjp swamy\n",
      "\n",
      "\n",
      "Review: west bengal police arrested two physical education teachers accused sexually assaulting four year old girl washroom kolkata gd birla centre education girl complained severe pain bleeding upon returning school following parents rushed hospital later lodged police complaint doctors confirmed sexual assault \n",
      "Original summary: teachers held for yr old sexual assault in wb school \n",
      "Predicted summary:  police held for assaulting minor student in delhi\n",
      "\n",
      "\n",
      "Review: environment ministry thursday launched national clean air programme aimed reducing toxic particulate matter indian cities mid term five year plan first year base year comparison concentration amount crore sanctioned purpose \n",
      "Original summary: centre launches yr plan to combat pollution in cities \n",
      "Predicted summary:  govt to get kg to check in india\n",
      "\n",
      "\n",
      "Review: former army chief jj singh resigned shiromani akali dal citing personal reasons singh earlier served governor arunachal pradesh joined sad ahead assembly elections unsuccessfully contested cm amarinder singh patiala reports said unhappy functioning leadership party \n",
      "Original summary: former army chief singh resigns from akali dal \n",
      "Predicted summary:  ex army chief chief chief resigns in chief\n",
      "\n",
      "\n",
      "Review: almost years face siberian warrior mummified head concealed clay mask revealed exhibit shows pierced ear hole skull stitched wound running eye jaw exhibition named warriors ancient siberia display british museum london \n",
      "Original summary: year old warrior face revealed in uk \n",
      "Predicted summary:  first ever found in years at\n",
      "\n",
      "\n",
      "Review: parineeti chopra praising upcoming film kesari co actor akshay kumar said makes extra effort make crew comfortable expect newer boys veteran really need go way make actresses crew comfortable happy yet added \n",
      "Original summary: akshay makes extra effort to make crew comfortable parineeti \n",
      "Predicted summary:  am not have to make my films taapsee on her rumours\n",
      "\n",
      "\n",
      "Review: telangana rashtra samithi secured majority member telangana assembly caretaker cm chandrashekar rao son kt rama rao said non congress non bjp force emerging telangana added keen federal front strong regional voices need heard earlier caretaker cm rao said actively participate national politics \n",
      "Original summary: non bjp non cong force emerging from telangana kcr son \n",
      "Predicted summary:  bjp to get up to protect up cm yogi\n",
      "\n",
      "\n",
      "Review: class student allegedly lost sight right eye school teacher slapped thursday uttar pradesh muzaffarnagar boy slapped reportedly left seat get book another student without permission teacher boy parents filed complaint accused teacher \n",
      "Original summary: class boy loses after teacher slaps him in up \n",
      "Predicted summary:  class student commits suicide in school\n",
      "\n",
      "\n",
      "Review: sachin tendulkar revealed ex pakistan captain inzamam ul haq introduced son saying son fan kind rivalry captaining pakistan say something like player team takes lot sachin added calm never got angry sachin said inzamam \n",
      "Original summary: telling me his son was my fan big deal sachin \n",
      "Predicted summary:  sachin is my wife on my wife sachin\n",
      "\n",
      "\n",
      "Review: six indian nationals arrested bhojpur district nepal allegedly duping local villagers said media report friday six accused hail bihar promised locals would shape ornaments polish gold jewellery however allegedly exchanged ornaments jewellery fake gold \n",
      "Original summary: indians arrested in nepal for duping locals with fake gold \n",
      "Predicted summary:  indian man held for stealing in yrs\n",
      "\n",
      "\n",
      "Review: losing last odis australia slipped lowest odi ranking years dropping sixth position icc latest rankings table australia last odi series january last year since lost three bilateral series exited champions league group stage \n",
      "Original summary: australia drop to their lowest odi ranking in years \n",
      "Predicted summary:  india beat india to win th odi series in series\n",
      "\n",
      "\n",
      "Review: european aircraft giant airbus taking majority stake canada bombardier series jet programme comes bombardier hit import levy united states huge tariff followed complaint boeing company sold series jets low prices delta airlines \n",
      "Original summary: airbus takes majority stake in jet project \n",
      "Predicted summary:  uk to buy stake in air india after years\n",
      "\n",
      "\n",
      "Review: kings xi punjab captain ravichandran ashwin batted number eight last innings promoted number three rajasthan royals tuesday got duck ashwin came pinch chris gayle wicket third clean bowled krishnappa gowtham second ball \n",
      "Original summary: ashwin promotes himself to no from gets out for duck \n",
      "Predicted summary:  ashwin to play in ipl after ball tampering\n",
      "\n",
      "\n",
      "Review: cbfc chief pahlaj nihalani reacting lipstick burkha director alankrita shrivastava calling criminal said liar speaking met film screening certification said never aloof rude nihalani added point curiosity film initially cbfc refused certify \n",
      "Original summary: cbfc chief calls lipstick under my burkha director liar \n",
      "Predicted summary:  cbfc is not to be in cbfc to be used to cbfc cbfc\n",
      "\n",
      "\n",
      "Review: actor anil kapoor talking son harshvardhan still naive said example say big filmmakers wish would least spoken anil added hopes filmmakers understand harsh really wants work means well ready films \n",
      "Original summary: wish harsh spoke to me before rejecting big filmmakers anil \n",
      "Predicted summary:  am not good to be good for my life kareena\n",
      "\n",
      "\n",
      "Review: amid floods kerala supreme court thursday directed disaster management sub committee mullaperiyar dam consider reducing water level feet current feet people living downstream live constant fear court added though dam located kerala operated tamil nadu \n",
      "Original summary: reduce dam water level amid kerala floods sc \n",
      "Predicted summary:  up govt to get cow relief to be shut to kerala\n",
      "\n",
      "\n",
      "Review: south african cricket team six match odi series india never lost odi wearing pink jersey team appeared five odis dressed pink create awareness breast cancer interestingly south africa scored runs three pink odis highest total \n",
      "Original summary: south africa have never lost an odi wearing pink jersey \n",
      "Predicted summary:  india to play test test series in australia\n",
      "\n",
      "\n",
      "Review: former tamil nadu chief minister jayalalithaa niece deepa jayakumar husband announced would quitting wife party start political outfit madhavan said party could function independently evil forces taken notably jayakumar launched party mgr amma deepa eve jayalalithaa th birth anniversary \n",
      "Original summary: husband of jaya niece quits her party to form new outfit \n",
      "Predicted summary:  jayalalithaa wife to be in jail for karunanidhi\n",
      "\n",
      "\n",
      "Review: talking impact bjp campaigning karnataka assembly election results cm siddaramaiah said bjp president amit shah comedy show pm narendra modi image drastically declined pm modi speeches hollow make impact made impact voters karnataka worry added \n",
      "Original summary: amit shah comedy show pm image karnataka cm \n",
      "Predicted summary:  pm modi is not to be used to pm modi on taka cm\n",
      "\n",
      "\n",
      "Review: iphone exploded caught fire repair shop week las vegas united states according reports surveillance video shows worker sitting desk suddenly object desk explodes catches fire model reported iphone store screen replacement \n",
      "Original summary: iphone explodes catches fire at repair shop in us report \n",
      "Predicted summary:  apple shot dead in us after being attack\n",
      "\n",
      "\n",
      "Review: union law minister ravi shankar prasad saturday said land theft gandhi family exposed prasad said reference delhi high court verdict ordered national herald publishers vacate herald house within two weeks prasad said gandhi family misused public properties \n",
      "Original summary: gandhi family land theft exposed ravi shankar prasad \n",
      "Predicted summary:  cannot be allowed to be in delhi minister\n",
      "\n",
      "\n",
      "Review: bjp general secretary ram madhav wednesday said though smaller allies like rlsp decided leave party bjp working bringing new allies fold southern eastern india added something happens elections nothing new said alliance politics accommodation adjustments \n",
      "Original summary: working to get new allies from south and east india bjp \n",
      "Predicted summary:  bjp will not be in bjp to be bjp bjp leader\n",
      "\n",
      "\n",
      "Review: sunrisers hyderabad captain david warner wife candice posted picture instagram two year old daughter ivy shikhar dhawan son zoravar cheering team candice posted picture ahead ipl eliminator kolkata knight riders captioning two cannot wait cheer daddy tonight \n",
      "Original summary: warner daughter shikhar dhawan son for sunrisers \n",
      "Predicted summary:  video shows rashid khan to play his son\n",
      "\n",
      "\n",
      "Review: us led coalition air strikes killed people including children family members islamic state fighters syrian jihadists held town al according reports strike comes united nations urged countries bombing islamic state syria distinguish civilian military targets \n",
      "Original summary: us led coalition air strikes in syria kill over \n",
      "Predicted summary:  us to kill isis in syria after syria\n",
      "\n",
      "\n",
      "Review: cabinet decided villages state get hour power supply power minister shrikant sharma said second cabinet meet yogi adityanath also ordered hour power supply district headquarters hour tehsil level bundelkhand region besides deciding ink pact centre ensure electricity villages \n",
      "Original summary: up govt orders hour power supply in villages \n",
      "Predicted summary:  govt to get power to power power to power\n",
      "\n",
      "\n",
      "Review: pakistan federal investigation agency uncovered transactions worth pkr crore made three accounts man died months accounts opened name local media reported comes amid fia investigation money laundering case involving benami bank accounts \n",
      "Original summary: transactions worth cr made from dead man accounts in pak \n",
      "Predicted summary:  pakistan pakistan bank arrested for crore\n",
      "\n",
      "\n",
      "Review: german automakers bmw daimler volkswagen audi porsche brands sued allegedly acting cartel two decades companies called circle five colluded restrict technological advances stifle competition lawsuit claims cartel allowed companies price cars higher premise superior german engineering \n",
      "Original summary: of five carmakers sued over year long cartel \n",
      "Predicted summary:  firm sues mn for not paying to sell\n",
      "\n",
      "\n",
      "Review: indian rounder irfan pathan slammed social media posted picture wife baig termed un islamic many users commented arms face covered veil earlier pacer mohammed shami subjected similar treatment posted wife picture sleeveless dress \n",
      "Original summary: irfan pathan slammed for posting un islamic pic with wife \n",
      "Predicted summary:  mithali slammed for calling her tweet on twitter\n",
      "\n",
      "\n",
      "Review: teaser upcoming biopic shiv sena founder bal thackeray titled thackeray actor nawazuddin siddiqui plays political figure released directed mns leader abhijit written shiv sena spokesperson sanjay raut also produce film film release january \n",
      "Original summary: teaser of nawazuddin starrer biopic on bal thackeray out \n",
      "Predicted summary:  trailer of akshay kumar starrer dutt released\n",
      "\n",
      "\n",
      "Review: india voluntarily contributed un fund help developing countries actively participate discussion tax issues becoming first country voluntarily contribute un tax trust fund called voluntary contributions since establishment handing cheque india expressed hope countries would also contribute \n",
      "Original summary: india st to contribute to un tax fund \n",
      "Predicted summary:  india to be in india to be held for years\n",
      "\n",
      "\n",
      "Review: swedish contraception app natural cycles calculates fertility month reported country medical regulator many users became pregnant complaint lodged stockholm hospital performing abortions users four months last year app claimed track users menstrual cycles predict safe days unprotected sex \n",
      "Original summary: swedish app blamed for unwanted \n",
      "Predicted summary:  users to be used to check in india\n",
      "\n",
      "\n",
      "Review: india historic second chance disinvest air india help propel growth aviation sector finance minister arun jaitley said jaitley said first proposed disinvestment air india government pm atal bihari vajpayee flying handled private sector also handle jaitley added \n",
      "Original summary: historic second chance to in air india jaitley \n",
      "Predicted summary:  india to be in india due to air india\n",
      "\n",
      "\n",
      "Review: following india first ever innings win sri lanka virat kohli said big fan enforcing follow wicket prompted take decision colombo test kohli enforced follow first test galle leading india biggest win runs sri lanka \n",
      "Original summary: not big fan of follow on kohli after innings win over sl \n",
      "Predicted summary:  kohli to play test test for st time in india\n",
      "\n",
      "\n",
      "Review: adani group founder gautam adani whose infrastructure group india largest coal trader doubled wealth billion last year according hurun global rich list year old tycoon wealth surged percentage terms among indian billionaires list adani also among new entrants top \n",
      "Original summary: gautam adani wealth doubles to bn in hurun rich list \n",
      "Predicted summary:  infosys to become india for billion\n",
      "\n",
      "\n",
      "Review: us president donald trump tuesday sacked secretary state rex tillerson replaced cia director mike pompeo tillerson earlier reportedly called trump moron prompting trump challenge iq test staff departures trump white house stand highest rate decades \n",
      "Original summary: trump sacks us secretary of state rex tillerson \n",
      "Predicted summary:  trump slams us for not to be in us\n",
      "\n",
      "\n",
      "Review: google help election commission india track online political advertisements forthcoming polls company allegedly assured election body ensure pre certification ads well collect share details expenditure incurred move would help returning officers calculating election expenditure individual candidates \n",
      "Original summary: google to help election commission track political ads \n",
      "Predicted summary:  google to allow google to allow election to vote\n",
      "\n",
      "\n",
      "Review: world largest fusion device type germany achieved record fusion triple product combines plasma temperature density confinement time instead simple donut shape use twisted confine plasma magnetic field fusion product achieved ion temperature million degrees \n",
      "Original summary: german nuclear device achieves record plasma \n",
      "Predicted summary:  world largest largest found in the first time\n",
      "\n",
      "\n",
      "Review: comedian tiffany jokingly said actor brad pitt met elevator oscars told one year single going added know means said interviewed television presenter kelly backstage \n",
      "Original summary: brad will do it in yr if we are both single \n",
      "Predicted summary:  am not know to be who is not good good actor\n",
      "\n",
      "\n",
      "Review: world number one novak djokovic defeated lucas pouille semi final reach australian open men singles final seventh time six time australian open champion match scoreline minutes djokovic face world number two rafael nadal summit clash repeat final \n",
      "Original summary: world no djokovic to face world no nadal in aus open final \n",
      "Predicted summary:  nadal wins world open for st time in open\n",
      "\n",
      "\n",
      "Review: migrant labourer died days attacked three men allegedly stealing hen kerala police said manik roy purchased chicken approached three men questioned got bird thrashed accused behind several thefts area \n",
      "Original summary: migrant labourer thrashed for stealing dies in kerala \n",
      "Predicted summary:  dead as man who killed in up in up\n",
      "\n",
      "\n",
      "Review: bjp tuesday expelled savita khatri one candidates upcoming municipal corporation delhi elections sex scandal accused former aap minister spotted campaigning sandeep kumar scheduled caste scheduled tribe welfare women child welfare minister delhi government expelled cabinet scandal \n",
      "Original summary: bjp candidate sacked after aap mla for her \n",
      "Predicted summary:  bjp leader booked for bjp over delhi cm\n",
      "\n",
      "\n",
      "Review: shares adani group surged monday company said start work billion carmichael coal project australia october shares group companies also surged adani transmission climbing adani power rising company said expects ship first consignment march \n",
      "Original summary: adani shares rose on plans to start work on aus project \n",
      "Predicted summary:  tata motors to be in the first time in years\n",
      "\n",
      "\n",
      "Review: sri lanka ended third day first test kolkata saturday trailing india seven runs first innings earlier day cheteshwar pujara became fourth batsman score test runs year india dismissed first innings second lowest total sri lanka home \n",
      "Original summary: sri lanka end day at trail india by runs \n",
      "Predicted summary:  india beat india to win th odi series in series\n",
      "\n",
      "\n",
      "Review: apple co founder steve wozniak known hand built units apple computers wozniak sold hp calculator steve jobs sold volkswagen van buy material motherboards first computers apple computer first product company released april \n",
      "Original summary: apple co founder hand built all apple computers \n",
      "Predicted summary:  apple co founder apple quits apple apple\n",
      "\n",
      "\n",
      "Review: government tuesday said aware possibility terrorists using remote airports carry anti national activities mos home affairs kiren rijiju said home ministry carrying audit installations ensure security said cisf constantly evolving new training methods protect installations \n",
      "Original summary: aware that remote airports can be used by terrorists govt \n",
      "Predicted summary:  govt to give to use of drug attack to\n",
      "\n",
      "\n",
      "Review: union finance minister arun jaitley wednesday said government trying implement goods services tax july year gst make goods services cheaper make tax evasion difficult added gst transform complex indirect tax system simple system said \n",
      "Original summary: hoping to implement gst from july says arun jaitley \n",
      "Predicted summary:  gst will not be mandatory for gst jaitley\n",
      "\n",
      "\n",
      "Review: bjp mp ravindra friday claimed bill ram temple construction definitely tabled coming winter session parliament beginning december fails get passed rajya sabha ordinance brought purpose told reporters uttar pradesh ballia district \n",
      "Original summary: ram temple bill to be in parliament winter session bjp mp \n",
      "Predicted summary:  bjp to give up to ram temple to be in ayodhya\n",
      "\n",
      "\n",
      "Review: actors varun dhawan katrina kaif starring together upcoming film described biggest dance film ever film release also star actor prabhudheva directed choreographer remo souza scheduled release november \n",
      "Original summary: varun katrina to star together in upcoming dance film \n",
      "Predicted summary:  varun dhawan to star in varun varun starrer varun\n",
      "\n",
      "\n",
      "Review: home secretary india rajiv monday said action taken twitter removing unlawful content slow cases also asked social network improve system response appoint contact person india quick redressal complaints comes amid twitter ceo jack dorsey first ever visit india \n",
      "Original summary: twitter slow on removing unlawful content government \n",
      "Predicted summary:  cannot be used to be in india if it is not\n",
      "\n",
      "\n",
      "Review: police officer shot dead two others wounded champs lys es paris thursday night attack claimed isis days french presidential elections attacker shot dead police identified belgian abu yousef al isis interior minister matthias said policemen tonight averted massacre prevented \n",
      "Original summary: policeman killed in paris attack isis claims responsibility \n",
      "Predicted summary:  killed in us over killing attack in us\n",
      "\n",
      "\n",
      "Review: shah rukh khan revealed eldest son aryan gets really excited telling gaalis learnt srk added delhi also age vocabulary hindi gaalis fantastic srk revealed sometimes lie shorts without shirts crack dirty jokes \n",
      "Original summary: aryan gets excited telling me about he is learnt srk \n",
      "Predicted summary:  srk is like my life of my life srk\n",
      "\n",
      "\n",
      "Review: filmmaker vivek agnihotri slamming actress swara bhasker remark padmaavat called fake feminist responding swara tweeted pretty low sick even standards conduct swara said felt like vagina watching padmaavat accused bhansali glorifying practice jauhar \n",
      "Original summary: calls swara fake feminist for padmaavat remark \n",
      "Predicted summary:  twitter reacts to swara on padmavati remark\n",
      "\n",
      "\n",
      "Review: former world number one time grand slam winner serena williams responded ex men champion john mcenroe comments wherein said serena would like men circuit serena told mcenroe twitter respected respect privacy trying baby \n",
      "Original summary: respect my privacy as am having baby serena to \n",
      "Predicted summary:  serena williams is not have been serena\n",
      "\n",
      "\n",
      "Review: japan wednesday announced withdraw international whaling commission resume commercial hunting july sparking criticism various countries hunting limited japan territorial waters exclusive economic zone japan killed whales antarctic citing research purposes despite part commission \n",
      "Original summary: japan to resume commercial hunting of whales \n",
      "Predicted summary:  japan to launch its first ever ship\n",
      "\n",
      "\n",
      "Review: government revealed crore raised bharat exchange traded fund fund benefit long term retail investors providing opportunity purchase equity stocks government run companies earn stable returns fund companies including central public sector enterprises public sector banks among others \n",
      "Original summary: cr generated via bharat exchange traded fund \n",
      "Predicted summary:  govt approves cr for cr in\n",
      "\n",
      "\n",
      "Review: mukesh ambani led reliance industries barred trading futures market year stake sale reliance petroleum ril sold stake shares first short sold futures market avoid fall stocks short sale means selling shares plans buy back later lower prices \n",
      "Original summary: why has reliance been barred from trading in \n",
      "Predicted summary:  reliance jio to invest crore in mukesh ambani\n",
      "\n",
      "\n"
     ]
    }
   ],
   "source": [
    "for i in range(0,100):\n",
    "    print(\"Review:\",seq2text(x_train[i]))\n",
    "    print(\"Original summary:\",seq2summary(y_train[i]))\n",
    "    print(\"Predicted summary:\",decode_sequence(x_train[i].reshape(1,max_text)))\n",
    "    print(\"\\n\")"
   ]
  },
  {
   "cell_type": "code",
   "execution_count": 0,
   "metadata": {
    "colab": {},
    "colab_type": "code",
    "id": "DYPkgnNwKv1T"
   },
   "outputs": [],
   "source": []
  }
 ],
 "metadata": {
  "accelerator": "GPU",
  "colab": {
   "name": "MinorTryNews.ipynb",
   "provenance": []
  },
  "kernelspec": {
   "display_name": "Python 3",
   "language": "python",
   "name": "python3"
  },
  "language_info": {
   "codemirror_mode": {
    "name": "ipython",
    "version": 3
   },
   "file_extension": ".py",
   "mimetype": "text/x-python",
   "name": "python",
   "nbconvert_exporter": "python",
   "pygments_lexer": "ipython3",
   "version": "3.7.4"
  }
 },
 "nbformat": 4,
 "nbformat_minor": 1
}
